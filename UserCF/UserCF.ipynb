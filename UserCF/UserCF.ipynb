{
 "cells": [
  {
   "cell_type": "code",
   "execution_count": 1,
   "metadata": {},
   "outputs": [],
   "source": [
    "# 项亮《推荐系统实践》UserCF的实现\n",
    "# 使用小型MovieLens数据集"
   ]
  },
  {
   "cell_type": "code",
   "execution_count": 2,
   "metadata": {},
   "outputs": [],
   "source": [
    "import pandas as pd\n",
    "import random\n",
    "import math\n",
    "from operator import itemgetter\n",
    "from tqdm import tqdm"
   ]
  },
  {
   "cell_type": "code",
   "execution_count": 3,
   "metadata": {},
   "outputs": [],
   "source": [
    "# 读取数据\n",
    "rating_file = '../jupyter_files/ml-latest-small/ratings.csv'\n",
    "\n",
    "data = pd.read_csv(rating_file)"
   ]
  },
  {
   "cell_type": "code",
   "execution_count": 4,
   "metadata": {},
   "outputs": [
    {
     "data": {
      "text/html": [
       "<div>\n",
       "<style scoped>\n",
       "    .dataframe tbody tr th:only-of-type {\n",
       "        vertical-align: middle;\n",
       "    }\n",
       "\n",
       "    .dataframe tbody tr th {\n",
       "        vertical-align: top;\n",
       "    }\n",
       "\n",
       "    .dataframe thead th {\n",
       "        text-align: right;\n",
       "    }\n",
       "</style>\n",
       "<table border=\"1\" class=\"dataframe\">\n",
       "  <thead>\n",
       "    <tr style=\"text-align: right;\">\n",
       "      <th></th>\n",
       "      <th>userId</th>\n",
       "      <th>movieId</th>\n",
       "      <th>rating</th>\n",
       "      <th>timestamp</th>\n",
       "    </tr>\n",
       "  </thead>\n",
       "  <tbody>\n",
       "    <tr>\n",
       "      <th>0</th>\n",
       "      <td>1</td>\n",
       "      <td>1</td>\n",
       "      <td>4.0</td>\n",
       "      <td>964982703</td>\n",
       "    </tr>\n",
       "    <tr>\n",
       "      <th>1</th>\n",
       "      <td>1</td>\n",
       "      <td>3</td>\n",
       "      <td>4.0</td>\n",
       "      <td>964981247</td>\n",
       "    </tr>\n",
       "    <tr>\n",
       "      <th>2</th>\n",
       "      <td>1</td>\n",
       "      <td>6</td>\n",
       "      <td>4.0</td>\n",
       "      <td>964982224</td>\n",
       "    </tr>\n",
       "    <tr>\n",
       "      <th>3</th>\n",
       "      <td>1</td>\n",
       "      <td>47</td>\n",
       "      <td>5.0</td>\n",
       "      <td>964983815</td>\n",
       "    </tr>\n",
       "    <tr>\n",
       "      <th>4</th>\n",
       "      <td>1</td>\n",
       "      <td>50</td>\n",
       "      <td>5.0</td>\n",
       "      <td>964982931</td>\n",
       "    </tr>\n",
       "  </tbody>\n",
       "</table>\n",
       "</div>"
      ],
      "text/plain": [
       "   userId  movieId  rating  timestamp\n",
       "0       1        1     4.0  964982703\n",
       "1       1        3     4.0  964981247\n",
       "2       1        6     4.0  964982224\n",
       "3       1       47     5.0  964983815\n",
       "4       1       50     5.0  964982931"
      ]
     },
     "execution_count": 4,
     "metadata": {},
     "output_type": "execute_result"
    }
   ],
   "source": [
    "data.head()"
   ]
  },
  {
   "cell_type": "code",
   "execution_count": 5,
   "metadata": {},
   "outputs": [],
   "source": [
    "# 切分训练集和测试集\n",
    "train = {}                # 数据集是词典，key为用户，value为用户有过评分的电影列表\n",
    "test = {}\n",
    "\n",
    "train_test_ratio = 0.7      # 划分训练集和测试集，训练集所占的比例"
   ]
  },
  {
   "cell_type": "code",
   "execution_count": 6,
   "metadata": {},
   "outputs": [],
   "source": [
    "random.seed(2020)\n",
    "for row in data.itertuples():\n",
    "    if random.random() < train_test_ratio:\n",
    "        if row[1] not in train.keys():                    # userId的在tuple里的序号为1\n",
    "            train[row[1]] = []\n",
    "        train[row[1]].append(row[2])                      # movieId在tuple里的序号为2\n",
    "    else:\n",
    "        if row[1] not in test.keys():\n",
    "            test[row[1]] = []\n",
    "        test[row[1]].append(row[2])"
   ]
  },
  {
   "cell_type": "code",
   "execution_count": 7,
   "metadata": {},
   "outputs": [],
   "source": [
    "# 建立物品到用户之间的倒查表，降低计算用户相似度的时间复杂性\n",
    "item_users = {}\n",
    "for user, items in train.items():\n",
    "    for item in items:\n",
    "        if item not in item_users.keys():\n",
    "            item_users[item] = set()\n",
    "        item_users[item].add(user)"
   ]
  },
  {
   "cell_type": "code",
   "execution_count": 8,
   "metadata": {},
   "outputs": [
    {
     "name": "stderr",
     "output_type": "stream",
     "text": [
      "100%|████████████████████████████████████████████████████████████████████████████| 8551/8551 [00:02<00:00, 3921.65it/s]\n"
     ]
    }
   ],
   "source": [
    "# 计算用户间共同评论过的电影数量。\n",
    "# 计算相似度的分子\n",
    "C = {}                                   # 计算用户间共同评论过的电影数量\n",
    "N = {}                                   # 统计各用户评论过多少电影\n",
    "for item, users in tqdm(item_users.items()):\n",
    "    for u in users:\n",
    "        if u not in N.keys():\n",
    "            N[u] = 0\n",
    "        N[u] += 1\n",
    "        if u not in C.keys():\n",
    "                C[u] = {}\n",
    "        for v in users:\n",
    "            if u == v:\n",
    "                continue\n",
    "            if v not in C[u].keys():\n",
    "                C[u][v] = 0\n",
    "            C[u][v] += 1 / math.log(1 + len(users))            # 惩罚热门物品对相似度的影响"
   ]
  },
  {
   "cell_type": "code",
   "execution_count": 9,
   "metadata": {},
   "outputs": [
    {
     "data": {
      "text/plain": [
       "0.4793914053771732"
      ]
     },
     "execution_count": 9,
     "metadata": {},
     "output_type": "execute_result"
    }
   ],
   "source": [
    "C[1][2]"
   ]
  },
  {
   "cell_type": "code",
   "execution_count": 10,
   "metadata": {},
   "outputs": [],
   "source": [
    "# 计算最终的用户间相似度\n",
    "# 除以分母\n",
    "W = {}\n",
    "for u, related_users in C.items():\n",
    "    if u not in W.keys():\n",
    "        W[u] = {}\n",
    "    for v, cuv in related_users.items():\n",
    "        W[u][v] = cuv / math.sqrt(N[u]*N[v])"
   ]
  },
  {
   "cell_type": "code",
   "execution_count": 11,
   "metadata": {},
   "outputs": [],
   "source": [
    "# 找到K个最相似的用户，推荐n个物品\n",
    "user = 5        # 我们给编号为5的用户做推荐\n",
    "K = 80\n",
    "n = 20"
   ]
  },
  {
   "cell_type": "code",
   "execution_count": 12,
   "metadata": {},
   "outputs": [],
   "source": [
    "rank = {}\n",
    "for sim_user, similarity in sorted(W[user].items(), key=itemgetter(1), reverse=True)[0:K]:\n",
    "    for item in train[sim_user]:\n",
    "        if item in train[user]:\n",
    "            continue\n",
    "        if item not in rank.keys():\n",
    "            rank[item] = 0\n",
    "        rank[item] += similarity\n",
    "\n",
    "rank = sorted(rank.items(), key=itemgetter(1), reverse=True)[0:n]"
   ]
  },
  {
   "cell_type": "code",
   "execution_count": 13,
   "metadata": {},
   "outputs": [
    {
     "data": {
      "text/plain": [
       "[(380, 3.4565206038764344),\n",
       " (457, 3.07038319621229),\n",
       " (356, 3.0499815789812974),\n",
       " (454, 2.8222144683113406),\n",
       " (318, 2.800213715863799),\n",
       " (349, 2.7747817770859005),\n",
       " (480, 2.682590468662604),\n",
       " (377, 2.646399428528173),\n",
       " (434, 2.565767426706949),\n",
       " (161, 2.5074825955000515),\n",
       " (47, 2.4673246980845813),\n",
       " (329, 2.4489383268857225),\n",
       " (292, 2.403897972478507),\n",
       " (208, 2.399192771264493),\n",
       " (500, 2.298772255437218),\n",
       " (231, 2.29044309593399),\n",
       " (165, 2.213800417356548),\n",
       " (593, 2.20952037255619),\n",
       " (539, 2.206841584431416),\n",
       " (185, 2.176802767723239)]"
      ]
     },
     "execution_count": 13,
     "metadata": {},
     "output_type": "execute_result"
    }
   ],
   "source": [
    "rank"
   ]
  },
  {
   "cell_type": "code",
   "execution_count": 14,
   "metadata": {},
   "outputs": [
    {
     "name": "stdout",
     "output_type": "stream",
     "text": [
      "pecision: 0.200000\n"
     ]
    }
   ],
   "source": [
    "# 计算精度\n",
    "hit = 0\n",
    "total = 0\n",
    "for item, _ in rank:\n",
    "    if item in test[user]:\n",
    "        hit += 1\n",
    "    total += 1\n",
    "\n",
    "print(\"pecision: %f\" % (hit/total))"
   ]
  },
  {
   "cell_type": "code",
   "execution_count": 15,
   "metadata": {},
   "outputs": [
    {
     "name": "stdout",
     "output_type": "stream",
     "text": [
      "recall: 0.307692\n"
     ]
    }
   ],
   "source": [
    "# 计算召回率\n",
    "hit = 0\n",
    "for item, _ in rank:\n",
    "    if item in test[user]:\n",
    "        hit += 1\n",
    "\n",
    "print(\"recall: %f\" % (hit/len(test[user])))"
   ]
  },
  {
   "cell_type": "code",
   "execution_count": null,
   "metadata": {},
   "outputs": [],
   "source": []
  }
 ],
 "metadata": {
  "kernelspec": {
   "display_name": "Python 3",
   "language": "python",
   "name": "python3"
  },
  "language_info": {
   "codemirror_mode": {
    "name": "ipython",
    "version": 3
   },
   "file_extension": ".py",
   "mimetype": "text/x-python",
   "name": "python",
   "nbconvert_exporter": "python",
   "pygments_lexer": "ipython3",
   "version": "3.6.8"
  }
 },
 "nbformat": 4,
 "nbformat_minor": 2
}
