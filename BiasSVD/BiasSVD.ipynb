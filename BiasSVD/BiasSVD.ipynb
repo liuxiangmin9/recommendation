{
 "cells": [
  {
   "cell_type": "code",
   "execution_count": 1,
   "metadata": {},
   "outputs": [],
   "source": [
    "# 带用户和物品打分偏差的矩阵分解算法做评分预测"
   ]
  },
  {
   "cell_type": "code",
   "execution_count": 2,
   "metadata": {},
   "outputs": [],
   "source": [
    "import pandas as pd\n",
    "import numpy as np\n",
    "from tqdm import tqdm\n",
    "from sklearn.preprocessing import LabelEncoder"
   ]
  },
  {
   "cell_type": "code",
   "execution_count": 3,
   "metadata": {},
   "outputs": [],
   "source": [
    "# 读取数据\n",
    "rating_file = '../jupyter_files/ml-latest-small/ratings.csv'\n",
    "\n",
    "data = pd.read_csv(rating_file)"
   ]
  },
  {
   "cell_type": "code",
   "execution_count": 4,
   "metadata": {},
   "outputs": [
    {
     "data": {
      "text/html": [
       "<div>\n",
       "<style scoped>\n",
       "    .dataframe tbody tr th:only-of-type {\n",
       "        vertical-align: middle;\n",
       "    }\n",
       "\n",
       "    .dataframe tbody tr th {\n",
       "        vertical-align: top;\n",
       "    }\n",
       "\n",
       "    .dataframe thead th {\n",
       "        text-align: right;\n",
       "    }\n",
       "</style>\n",
       "<table border=\"1\" class=\"dataframe\">\n",
       "  <thead>\n",
       "    <tr style=\"text-align: right;\">\n",
       "      <th></th>\n",
       "      <th>userId</th>\n",
       "      <th>movieId</th>\n",
       "      <th>rating</th>\n",
       "      <th>timestamp</th>\n",
       "    </tr>\n",
       "  </thead>\n",
       "  <tbody>\n",
       "    <tr>\n",
       "      <th>0</th>\n",
       "      <td>1</td>\n",
       "      <td>1</td>\n",
       "      <td>4.0</td>\n",
       "      <td>964982703</td>\n",
       "    </tr>\n",
       "    <tr>\n",
       "      <th>1</th>\n",
       "      <td>1</td>\n",
       "      <td>3</td>\n",
       "      <td>4.0</td>\n",
       "      <td>964981247</td>\n",
       "    </tr>\n",
       "    <tr>\n",
       "      <th>2</th>\n",
       "      <td>1</td>\n",
       "      <td>6</td>\n",
       "      <td>4.0</td>\n",
       "      <td>964982224</td>\n",
       "    </tr>\n",
       "    <tr>\n",
       "      <th>3</th>\n",
       "      <td>1</td>\n",
       "      <td>47</td>\n",
       "      <td>5.0</td>\n",
       "      <td>964983815</td>\n",
       "    </tr>\n",
       "    <tr>\n",
       "      <th>4</th>\n",
       "      <td>1</td>\n",
       "      <td>50</td>\n",
       "      <td>5.0</td>\n",
       "      <td>964982931</td>\n",
       "    </tr>\n",
       "  </tbody>\n",
       "</table>\n",
       "</div>"
      ],
      "text/plain": [
       "   userId  movieId  rating  timestamp\n",
       "0       1        1     4.0  964982703\n",
       "1       1        3     4.0  964981247\n",
       "2       1        6     4.0  964982224\n",
       "3       1       47     5.0  964983815\n",
       "4       1       50     5.0  964982931"
      ]
     },
     "execution_count": 4,
     "metadata": {},
     "output_type": "execute_result"
    }
   ],
   "source": [
    "data.head()"
   ]
  },
  {
   "cell_type": "code",
   "execution_count": 5,
   "metadata": {},
   "outputs": [],
   "source": [
    "# 将Id 转换为用户矩阵/物品矩阵的行号\n",
    "data['userId'] = data['userId'] - 1\n",
    "data['movieId'] = LabelEncoder().fit_transform(data['movieId'])"
   ]
  },
  {
   "cell_type": "code",
   "execution_count": 6,
   "metadata": {},
   "outputs": [],
   "source": [
    "data.drop(\"timestamp\", axis=1, inplace=True)           # 去除不用的列\n",
    "data = data.sample(frac=1, random_state=2020)          # 打乱顺序\n",
    "data.reset_index(drop=True, inplace=True)\n",
    "\n",
    "train = data.iloc[0:int(len(data)*0.7), :]            # 分割训练集合测试集\n",
    "test = data.iloc[int(len(data)*0.7):, :]"
   ]
  },
  {
   "cell_type": "code",
   "execution_count": 7,
   "metadata": {},
   "outputs": [
    {
     "data": {
      "text/plain": [
       "9723"
      ]
     },
     "execution_count": 7,
     "metadata": {},
     "output_type": "execute_result"
    }
   ],
   "source": [
    "train['movieId'].max()"
   ]
  },
  {
   "cell_type": "code",
   "execution_count": 8,
   "metadata": {},
   "outputs": [
    {
     "data": {
      "text/plain": [
       "8604"
      ]
     },
     "execution_count": 8,
     "metadata": {},
     "output_type": "execute_result"
    }
   ],
   "source": [
    "train['movieId'].nunique()                 # 注意到movieId的最大编号大于movieId的不同值的个数。这个在训练的时候要予以处理"
   ]
  },
  {
   "cell_type": "code",
   "execution_count": 9,
   "metadata": {},
   "outputs": [
    {
     "data": {
      "text/plain": [
       "9723"
      ]
     },
     "execution_count": 9,
     "metadata": {},
     "output_type": "execute_result"
    }
   ],
   "source": [
    "data['movieId'].max()"
   ]
  },
  {
   "cell_type": "markdown",
   "metadata": {},
   "source": [
    "# 定义模型参数"
   ]
  },
  {
   "cell_type": "code",
   "execution_count": 10,
   "metadata": {},
   "outputs": [],
   "source": [
    "mu = train['rating'].mean()              # 全局偏差常数"
   ]
  },
  {
   "cell_type": "code",
   "execution_count": 11,
   "metadata": {},
   "outputs": [],
   "source": [
    "bu = np.zeros(train['userId'].nunique())        # 定义用户偏差系数bu"
   ]
  },
  {
   "cell_type": "code",
   "execution_count": 12,
   "metadata": {},
   "outputs": [
    {
     "data": {
      "text/plain": [
       "(610,)"
      ]
     },
     "execution_count": 12,
     "metadata": {},
     "output_type": "execute_result"
    }
   ],
   "source": [
    "bu.shape"
   ]
  },
  {
   "cell_type": "code",
   "execution_count": 13,
   "metadata": {},
   "outputs": [],
   "source": [
    "bi = np.zeros(train['movieId'].nunique())      # 定义物品偏差系数bi"
   ]
  },
  {
   "cell_type": "code",
   "execution_count": 14,
   "metadata": {},
   "outputs": [
    {
     "data": {
      "text/plain": [
       "(8604,)"
      ]
     },
     "execution_count": 14,
     "metadata": {},
     "output_type": "execute_result"
    }
   ],
   "source": [
    "bi.shape"
   ]
  },
  {
   "cell_type": "code",
   "execution_count": 15,
   "metadata": {},
   "outputs": [],
   "source": [
    "pu = np.random.normal(0, 0.1, (train['userId'].nunique(), 30))       # 定义用户矩阵，设隐向量为30维"
   ]
  },
  {
   "cell_type": "code",
   "execution_count": 16,
   "metadata": {},
   "outputs": [
    {
     "data": {
      "text/plain": [
       "(610, 30)"
      ]
     },
     "execution_count": 16,
     "metadata": {},
     "output_type": "execute_result"
    }
   ],
   "source": [
    "pu.shape"
   ]
  },
  {
   "cell_type": "code",
   "execution_count": 17,
   "metadata": {},
   "outputs": [],
   "source": [
    "qi = np.random.normal(0, 0.1, (train['movieId'].nunique(), 30)   )    # 定义物品矩阵"
   ]
  },
  {
   "cell_type": "code",
   "execution_count": 18,
   "metadata": {},
   "outputs": [
    {
     "data": {
      "text/plain": [
       "(8604, 30)"
      ]
     },
     "execution_count": 18,
     "metadata": {},
     "output_type": "execute_result"
    }
   ],
   "source": [
    "qi.shape"
   ]
  },
  {
   "cell_type": "code",
   "execution_count": 19,
   "metadata": {},
   "outputs": [],
   "source": [
    "lr = 0.01      # 定义学习率。此处为统一的学习率，也可以给各参数分别定义。\n",
    "reg = 0.02     # 定义正则系数。此处为统一的正则系数，也可以给各参数分别定义。\n",
    "\n",
    "n_epochs = 5   # 最大迭代次数"
   ]
  },
  {
   "cell_type": "code",
   "execution_count": 20,
   "metadata": {},
   "outputs": [
    {
     "data": {
      "text/plain": [
       "array([-0.05048308,  0.0484573 ,  0.06287342,  0.03919684, -0.00537019,\n",
       "       -0.05688397, -0.06798224,  0.02417511,  0.00727975, -0.01518131,\n",
       "       -0.05024629,  0.06364183,  0.00076297, -0.09872642, -0.09570419,\n",
       "       -0.19803726, -0.144549  , -0.05855031,  0.02669158,  0.11209512,\n",
       "        0.0358852 ,  0.02974759, -0.0431942 , -0.02761993,  0.17365057,\n",
       "        0.03895474, -0.00722383,  0.02591012,  0.11120256, -0.035517  ])"
      ]
     },
     "execution_count": 20,
     "metadata": {},
     "output_type": "execute_result"
    }
   ],
   "source": [
    "qi[0]"
   ]
  },
  {
   "cell_type": "markdown",
   "metadata": {},
   "source": [
    "# 使用随机梯度下降求解各模型参数"
   ]
  },
  {
   "cell_type": "code",
   "execution_count": 21,
   "metadata": {},
   "outputs": [
    {
     "name": "stderr",
     "output_type": "stream",
     "text": [
      "100%|████████████████████████████████████████████████████████████████████████████████████| 5/5 [06:33<00:00, 78.62s/it]\n"
     ]
    }
   ],
   "source": [
    "for epoch in tqdm(range(n_epochs)):\n",
    "    for row in train.itertuples():\n",
    "        u = row[1]\n",
    "        i = row[2]\n",
    "        r= row[3]\n",
    "        if i >= train['movieId'].nunique():\n",
    "            continue\n",
    "        \n",
    "        # 计算拟合值\n",
    "        r_hat = mu + bi[i] + bu[u] + np.dot(qi[i], pu[u])\n",
    "        error = r - r_hat\n",
    "        \n",
    "        # 更新参数\n",
    "        bi[i] += lr * (error - reg*bi[i])\n",
    "        bu[u] += lr * (error - reg* bu[u])\n",
    "        qi[i] += lr * (error*pu[u] - reg*qi[i])\n",
    "        pu[u] += lr * (error*qi[i] - reg*pu[u])"
   ]
  },
  {
   "cell_type": "code",
   "execution_count": 22,
   "metadata": {},
   "outputs": [
    {
     "data": {
      "text/plain": [
       "array([-0.03852267,  0.13175349,  0.10998723,  0.02241689, -0.04293674,\n",
       "       -0.1399863 , -0.05067184, -0.01050995, -0.0189344 ,  0.04726878,\n",
       "        0.0037312 ,  0.02849495,  0.05072748, -0.0337539 , -0.09962791,\n",
       "       -0.11492175, -0.08481368, -0.00185224,  0.06110406,  0.07974761,\n",
       "       -0.00803508,  0.09002603, -0.03589235,  0.0150733 ,  0.17847898,\n",
       "        0.07641436, -0.0120292 ,  0.04476086,  0.06582417, -0.04614931])"
      ]
     },
     "execution_count": 22,
     "metadata": {},
     "output_type": "execute_result"
    }
   ],
   "source": [
    "qi[0]"
   ]
  },
  {
   "cell_type": "code",
   "execution_count": 23,
   "metadata": {},
   "outputs": [],
   "source": [
    "# 计算测试集的MAE\n",
    "count = 0\n",
    "error_sum = 0\n",
    "for row in test.itertuples():\n",
    "    u = row[1]\n",
    "    i = row[2]\n",
    "    r = row[3]\n",
    "    # 跳过未识别的物品或用户\n",
    "    if i < train['movieId'].nunique() and u < train['userId'].nunique():\n",
    "        r_hat = mu + bi[i] + bu[u] + np.dot(qi[i], pu[u])\n",
    "        error_sum += abs(r - r_hat)\n",
    "        count += 1"
   ]
  },
  {
   "cell_type": "code",
   "execution_count": 24,
   "metadata": {},
   "outputs": [
    {
     "name": "stdout",
     "output_type": "stream",
     "text": [
      "MAE:  0.6827952960632541\n"
     ]
    }
   ],
   "source": [
    "print(\"MAE: \", error_sum / count)"
   ]
  },
  {
   "cell_type": "code",
   "execution_count": null,
   "metadata": {},
   "outputs": [],
   "source": []
  }
 ],
 "metadata": {
  "kernelspec": {
   "display_name": "Python 3",
   "language": "python",
   "name": "python3"
  },
  "language_info": {
   "codemirror_mode": {
    "name": "ipython",
    "version": 3
   },
   "file_extension": ".py",
   "mimetype": "text/x-python",
   "name": "python",
   "nbconvert_exporter": "python",
   "pygments_lexer": "ipython3",
   "version": "3.6.8"
  }
 },
 "nbformat": 4,
 "nbformat_minor": 2
}
