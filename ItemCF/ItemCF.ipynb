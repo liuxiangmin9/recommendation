{
 "cells": [
  {
   "cell_type": "code",
   "execution_count": 1,
   "metadata": {},
   "outputs": [],
   "source": [
    "# 项亮《推荐系统实践》ItemCF的实现\n",
    "# 使用小型MovieLens数据集"
   ]
  },
  {
   "cell_type": "code",
   "execution_count": 2,
   "metadata": {},
   "outputs": [],
   "source": [
    "import pandas as pd\n",
    "import random\n",
    "import math\n",
    "from operator import itemgetter\n",
    "from tqdm import tqdm"
   ]
  },
  {
   "cell_type": "code",
   "execution_count": 3,
   "metadata": {},
   "outputs": [],
   "source": [
    "# 读取数据\n",
    "rating_file = '../jupyter_files/ml-latest-small/ratings.csv'\n",
    "\n",
    "data = pd.read_csv(rating_file)"
   ]
  },
  {
   "cell_type": "code",
   "execution_count": 4,
   "metadata": {},
   "outputs": [
    {
     "data": {
      "text/html": [
       "<div>\n",
       "<style scoped>\n",
       "    .dataframe tbody tr th:only-of-type {\n",
       "        vertical-align: middle;\n",
       "    }\n",
       "\n",
       "    .dataframe tbody tr th {\n",
       "        vertical-align: top;\n",
       "    }\n",
       "\n",
       "    .dataframe thead th {\n",
       "        text-align: right;\n",
       "    }\n",
       "</style>\n",
       "<table border=\"1\" class=\"dataframe\">\n",
       "  <thead>\n",
       "    <tr style=\"text-align: right;\">\n",
       "      <th></th>\n",
       "      <th>userId</th>\n",
       "      <th>movieId</th>\n",
       "      <th>rating</th>\n",
       "      <th>timestamp</th>\n",
       "    </tr>\n",
       "  </thead>\n",
       "  <tbody>\n",
       "    <tr>\n",
       "      <th>0</th>\n",
       "      <td>1</td>\n",
       "      <td>1</td>\n",
       "      <td>4.0</td>\n",
       "      <td>964982703</td>\n",
       "    </tr>\n",
       "    <tr>\n",
       "      <th>1</th>\n",
       "      <td>1</td>\n",
       "      <td>3</td>\n",
       "      <td>4.0</td>\n",
       "      <td>964981247</td>\n",
       "    </tr>\n",
       "    <tr>\n",
       "      <th>2</th>\n",
       "      <td>1</td>\n",
       "      <td>6</td>\n",
       "      <td>4.0</td>\n",
       "      <td>964982224</td>\n",
       "    </tr>\n",
       "    <tr>\n",
       "      <th>3</th>\n",
       "      <td>1</td>\n",
       "      <td>47</td>\n",
       "      <td>5.0</td>\n",
       "      <td>964983815</td>\n",
       "    </tr>\n",
       "    <tr>\n",
       "      <th>4</th>\n",
       "      <td>1</td>\n",
       "      <td>50</td>\n",
       "      <td>5.0</td>\n",
       "      <td>964982931</td>\n",
       "    </tr>\n",
       "  </tbody>\n",
       "</table>\n",
       "</div>"
      ],
      "text/plain": [
       "   userId  movieId  rating  timestamp\n",
       "0       1        1     4.0  964982703\n",
       "1       1        3     4.0  964981247\n",
       "2       1        6     4.0  964982224\n",
       "3       1       47     5.0  964983815\n",
       "4       1       50     5.0  964982931"
      ]
     },
     "execution_count": 4,
     "metadata": {},
     "output_type": "execute_result"
    }
   ],
   "source": [
    "data.head()"
   ]
  },
  {
   "cell_type": "code",
   "execution_count": 5,
   "metadata": {},
   "outputs": [],
   "source": [
    "# 切分训练集和测试集\n",
    "train = {}                # 数据集是词典，key为用户，value为用户有过评分的电影列表。\n",
    "test = {}\n",
    "\n",
    "train_test_ratio = 0.7      # 划分训练集和测试集，训练集所占的比例"
   ]
  },
  {
   "cell_type": "code",
   "execution_count": 6,
   "metadata": {},
   "outputs": [],
   "source": [
    "random.seed(2020)\n",
    "for row in data.itertuples():\n",
    "    if random.random() < train_test_ratio:\n",
    "        if row[1] not in train.keys():                    # userId的在tuple里的序号为1\n",
    "            train[row[1]] = []\n",
    "        train[row[1]].append(row[2])                      # movieId在tuple里的序号为2\n",
    "    else:\n",
    "        if row[1] not in test.keys():\n",
    "            test[row[1]] = []\n",
    "        test[row[1]].append(row[2])"
   ]
  },
  {
   "cell_type": "code",
   "execution_count": 7,
   "metadata": {},
   "outputs": [],
   "source": [
    "# 此时，train和test已经是用户到物品之间的倒查表。不需要再建立倒查表。"
   ]
  },
  {
   "cell_type": "code",
   "execution_count": 8,
   "metadata": {},
   "outputs": [
    {
     "name": "stderr",
     "output_type": "stream",
     "text": [
      "100%|████████████████████████████████████████████████████████████████████████████████| 610/610 [00:26<00:00, 23.18it/s]\n"
     ]
    }
   ],
   "source": [
    "# 计算二部电影被用户都评论过的用户数量。N(i)∩N(j),评论过i电影和评论过j电影的用户的交集。\n",
    "# 计算相似度的分子\n",
    "C = {}                                   # 计算二部电影被用户都评论过的用户数量\n",
    "N = {}                                   # 统计各电影被多少用户评论过\n",
    "for user, items in tqdm(train.items()):\n",
    "    for i in items:\n",
    "        if i not in N.keys():\n",
    "            N[i] = 0\n",
    "        N[i] += 1\n",
    "        if i not in C.keys():\n",
    "                C[i] = {}\n",
    "        for j in items:\n",
    "            if i == j:\n",
    "                continue\n",
    "            if j not in C[i].keys():\n",
    "                C[i][j] = 0\n",
    "            C[i][j] += 1 / math.log(1 + len(items))            # 惩罚活跃用户对相似度的影响"
   ]
  },
  {
   "cell_type": "code",
   "execution_count": 9,
   "metadata": {},
   "outputs": [
    {
     "data": {
      "text/plain": [
       "6.576976840541445"
      ]
     },
     "execution_count": 9,
     "metadata": {},
     "output_type": "execute_result"
    }
   ],
   "source": [
    "C[1][2]"
   ]
  },
  {
   "cell_type": "code",
   "execution_count": 10,
   "metadata": {},
   "outputs": [],
   "source": [
    "# 计算最终的物品间相似度\n",
    "# 除以分母\n",
    "W = {}\n",
    "for i, related_items in C.items():\n",
    "    if i not in W.keys():\n",
    "        W[i] = {}\n",
    "    for j, cij in related_items.items():\n",
    "        W[i][j] = cij / math.sqrt(N[i]*N[j])"
   ]
  },
  {
   "cell_type": "code",
   "execution_count": 11,
   "metadata": {},
   "outputs": [],
   "source": [
    "# 给用户评论过的每部电影，找到K部最相似的电影，最后推荐n部电影\n",
    "user = 5        # 我们给编号为5的用户做推荐\n",
    "K = 10\n",
    "n = 20"
   ]
  },
  {
   "cell_type": "code",
   "execution_count": 12,
   "metadata": {},
   "outputs": [],
   "source": [
    "rank = {}\n",
    "for item in train[user]:\n",
    "    for sim_item, similarity in sorted(W[item].items(), key=itemgetter(1), reverse=True)[0:K]:\n",
    "        if sim_item in train[user]:\n",
    "            continue\n",
    "        if sim_item not in rank:\n",
    "            rank[sim_item] = 0\n",
    "        rank[sim_item] += similarity\n",
    "\n",
    "rank = sorted(rank.items(), key=itemgetter(1), reverse=True)[0:n]"
   ]
  },
  {
   "cell_type": "code",
   "execution_count": 13,
   "metadata": {},
   "outputs": [
    {
     "data": {
      "text/plain": [
       "[(380, 1.4153245148859999),\n",
       " (457, 0.9360971447765714),\n",
       " (356, 0.7953692854329181),\n",
       " (500, 0.6291878741767979),\n",
       " (377, 0.5838614047875813),\n",
       " (454, 0.5166995374168022),\n",
       " (208, 0.5003083308968814),\n",
       " (434, 0.41291160111119757),\n",
       " (47, 0.4057628700466144),\n",
       " (539, 0.3516563210832019),\n",
       " (292, 0.33745596670366834),\n",
       " (318, 0.3253689557022883),\n",
       " (329, 0.3096307055320706),\n",
       " (185, 0.29922875120548165),\n",
       " (480, 0.282250126986049),\n",
       " (593, 0.20799027477262205),\n",
       " (165, 0.20323492304216687),\n",
       " (440, 0.20077992622509738),\n",
       " (349, 0.19891317963632987),\n",
       " (587, 0.18826332203679574)]"
      ]
     },
     "execution_count": 13,
     "metadata": {},
     "output_type": "execute_result"
    }
   ],
   "source": [
    "rank"
   ]
  },
  {
   "cell_type": "code",
   "execution_count": 14,
   "metadata": {},
   "outputs": [
    {
     "name": "stdout",
     "output_type": "stream",
     "text": [
      "pecision: 0.200000\n"
     ]
    }
   ],
   "source": [
    "# 计算精度\n",
    "hit = 0\n",
    "total = 0\n",
    "for item, _ in rank:\n",
    "    if item in test[user]:\n",
    "        hit += 1\n",
    "    total += 1\n",
    "\n",
    "print(\"pecision: %f\" % (hit/total))"
   ]
  },
  {
   "cell_type": "code",
   "execution_count": 15,
   "metadata": {},
   "outputs": [
    {
     "name": "stdout",
     "output_type": "stream",
     "text": [
      "recall: 0.307692\n"
     ]
    }
   ],
   "source": [
    "# 计算召回率\n",
    "hit = 0\n",
    "for item, _ in rank:\n",
    "    if item in test[user]:\n",
    "        hit += 1\n",
    "\n",
    "print(\"recall: %f\" % (hit/len(test[user])))"
   ]
  },
  {
   "cell_type": "code",
   "execution_count": null,
   "metadata": {},
   "outputs": [],
   "source": []
  }
 ],
 "metadata": {
  "kernelspec": {
   "display_name": "Python 3",
   "language": "python",
   "name": "python3"
  },
  "language_info": {
   "codemirror_mode": {
    "name": "ipython",
    "version": 3
   },
   "file_extension": ".py",
   "mimetype": "text/x-python",
   "name": "python",
   "nbconvert_exporter": "python",
   "pygments_lexer": "ipython3",
   "version": "3.6.8"
  }
 },
 "nbformat": 4,
 "nbformat_minor": 2
}
